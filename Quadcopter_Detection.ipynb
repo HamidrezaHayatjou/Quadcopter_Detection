{
  "nbformat": 4,
  "nbformat_minor": 0,
  "metadata": {
    "colab": {
      "provenance": [],
      "gpuType": "T4"
    },
    "kernelspec": {
      "name": "python3",
      "display_name": "Python 3"
    },
    "language_info": {
      "name": "python"
    },
    "accelerator": "GPU"
  },
  "cells": [
    {
      "cell_type": "code",
      "execution_count": null,
      "metadata": {
        "id": "7CMG7LcJJ-yz"
      },
      "outputs": [],
      "source": [
        "!pip -q install ultralytics\n",
        "!git clone https://github.com/HamidrezaHayatjou/Quadcopter_Detection\n",
        "%cd Quadcopter_Detection\n",
        "!pip install -qr requirements.txt\n",
        "\n",
        "import torch\n",
        "import ultralytics\n",
        "import cv2\n",
        "from matplotlib import pyplot as plt\n",
        "import numpy as np\n",
        "import glob\n",
        "import os\n",
        "from Summvid import summarisevideo, createvideo\n",
        "\n",
        "os.mkdir(\"frames\")\n",
        "PATH = \"/content/Quadcopter_Detection/frames\"\n",
        "videofile = \"Quadcopter.mp4\"\n",
        "frameslist = summarisevideo(videofile, PATH)\n",
        "createvideo(PATH)\n",
        "\n",
        "!python detect.py --weights best.pt --conf 0.5 --img-size 640 --source summvid.mp4 --save-txt     #Detect  summvid.mp4\n",
        "\n",
        "print(\"Please check /content/Quadcopter_Detection/runs/detect/exp\")"
      ]
    },
    {
      "cell_type": "code",
      "source": [
        "!python detect.py --weights best.pt --conf 0.5 --img-size 640 --source Quadcopter.mp4 --save-txt  #Detect  summvid.mp4\n",
        "print(\"Please check /content/Quadcopter_Detection/runs/detect/exp1\")"
      ],
      "metadata": {
        "id": "W8Juw1-wXH2k"
      },
      "execution_count": null,
      "outputs": []
    }
  ]
}